{
  "nbformat": 4,
  "nbformat_minor": 0,
  "metadata": {
    "colab": {
      "provenance": [],
      "gpuType": "T4",
      "authorship_tag": "ABX9TyP3etZmGNV6fRVfzgVxZ2GT",
      "include_colab_link": true
    },
    "kernelspec": {
      "name": "python3",
      "display_name": "Python 3"
    },
    "language_info": {
      "name": "python"
    },
    "accelerator": "GPU"
  },
  "cells": [
    {
      "cell_type": "markdown",
      "metadata": {
        "id": "view-in-github",
        "colab_type": "text"
      },
      "source": [
        "<a href=\"https://colab.research.google.com/github/SaiVignesh225/PRODIGY_GA_01/blob/main/task1.ipynb\" target=\"_parent\"><img src=\"https://colab.research.google.com/assets/colab-badge.svg\" alt=\"Open In Colab\"/></a>"
      ]
    },
    {
      "cell_type": "code",
      "execution_count": null,
      "metadata": {
        "colab": {
          "base_uri": "https://localhost:8080/"
        },
        "id": "Tl3p06Sba3ex",
        "outputId": "3c5ffcea-961c-4bf1-8c90-b30d730a7611"
      },
      "outputs": [
        {
          "output_type": "stream",
          "name": "stdout",
          "text": [
            "  Preparing metadata (setup.py) ... \u001b[?25l\u001b[?25hdone\n",
            "  Building wheel for gpt-2-simple (setup.py) ... \u001b[?25l\u001b[?25hdone\n"
          ]
        }
      ],
      "source": [
        "#importing\n",
        "!pip install -q gpt-2-simple\n",
        "import gpt_2_simple as gpt2\n",
        "from datetime import datetime\n",
        "from google.colab import files"
      ]
    },
    {
      "cell_type": "code",
      "source": [
        "#download model\n",
        "gpt2.download_gpt2(model_name=\"124M\")\n"
      ],
      "metadata": {
        "colab": {
          "base_uri": "https://localhost:8080/"
        },
        "id": "7i73DPiMe5_2",
        "outputId": "31df7bce-ea61-4161-c3a9-946c2d2791cd"
      },
      "execution_count": null,
      "outputs": [
        {
          "output_type": "stream",
          "name": "stderr",
          "text": [
            "Fetching checkpoint: 1.05Mit [00:00, 4.61Git/s]                                                     \n",
            "Fetching encoder.json: 1.05Mit [00:00, 1.95Mit/s]\n",
            "Fetching hparams.json: 1.05Mit [00:00, 4.82Git/s]                                                   \n",
            "Fetching model.ckpt.data-00000-of-00001: 498Mit [00:16, 30.7Mit/s]                                  \n",
            "Fetching model.ckpt.index: 1.05Mit [00:00, 3.44Git/s]                                               \n",
            "Fetching model.ckpt.meta: 1.05Mit [00:00, 3.57Mit/s]\n",
            "Fetching vocab.bpe: 1.05Mit [00:00, 2.79Mit/s]\n"
          ]
        }
      ]
    },
    {
      "cell_type": "code",
      "source": [
        "gpt2.mount_gdrive()"
      ],
      "metadata": {
        "colab": {
          "base_uri": "https://localhost:8080/"
        },
        "id": "gP3WVx82fKme",
        "outputId": "975d77c8-6e66-4988-eef4-666e0c1b94ce"
      },
      "execution_count": null,
      "outputs": [
        {
          "output_type": "stream",
          "name": "stdout",
          "text": [
            "Mounted at /content/drive\n"
          ]
        }
      ]
    },
    {
      "cell_type": "code",
      "source": [
        "#data used\n",
        "file_name = \"shl.txt\""
      ],
      "metadata": {
        "id": "oqyq6GQWgDdd"
      },
      "execution_count": null,
      "outputs": []
    },
    {
      "cell_type": "code",
      "source": [
        "#finetuning\n",
        "sess = gpt2.start_tf_sess()\n",
        "\n",
        "gpt2.finetune(sess,\n",
        "              dataset=file_name,\n",
        "              model_name='124M',\n",
        "              steps=1000,\n",
        "              restore_from='fresh',\n",
        "              run_name='run1',\n",
        "              print_every=10,\n",
        "              sample_every=200,\n",
        "              save_every=500\n",
        "              )"
      ],
      "metadata": {
        "colab": {
          "base_uri": "https://localhost:8080/"
        },
        "id": "DEYT6df7lQn2",
        "outputId": "2ed720ee-01f5-4f6b-a714-e21f2ca3586b"
      },
      "execution_count": null,
      "outputs": [
        {
          "output_type": "stream",
          "name": "stdout",
          "text": [
            "Loading checkpoint models/124M/model.ckpt\n",
            "Loading dataset...\n"
          ]
        },
        {
          "output_type": "stream",
          "name": "stderr",
          "text": [
            "100%|██████████| 1/1 [00:03<00:00,  3.94s/it]\n"
          ]
        },
        {
          "output_type": "stream",
          "name": "stdout",
          "text": [
            "dataset has 891350 tokens\n",
            "Training...\n",
            "[10 | 25.28] loss=3.37 avg=3.37\n",
            "[20 | 46.65] loss=3.35 avg=3.36\n",
            "[30 | 68.68] loss=3.12 avg=3.28\n",
            "[40 | 91.69] loss=3.07 avg=3.23\n",
            "[50 | 115.52] loss=3.14 avg=3.21\n",
            "[60 | 138.61] loss=3.13 avg=3.20\n",
            "[70 | 161.39] loss=3.06 avg=3.18\n",
            "[80 | 184.44] loss=3.06 avg=3.16\n",
            "[90 | 207.78] loss=3.12 avg=3.16\n",
            "[100 | 230.94] loss=2.95 avg=3.13\n",
            "[110 | 253.99] loss=3.22 avg=3.14\n",
            "[120 | 277.07] loss=2.98 avg=3.13\n",
            "[130 | 300.25] loss=3.03 avg=3.12\n",
            "[140 | 323.45] loss=2.90 avg=3.10\n",
            "[150 | 346.67] loss=2.84 avg=3.08\n",
            "[160 | 369.87] loss=2.86 avg=3.07\n",
            "[170 | 393.08] loss=3.11 avg=3.07\n",
            "[180 | 416.25] loss=2.95 avg=3.06\n",
            "[190 | 439.41] loss=3.06 avg=3.06\n",
            "[200 | 462.52] loss=3.02 avg=3.06\n",
            "======== SAMPLE 1 ========\n",
            " which did not fail to give him his name.\n",
            "   \n",
            "\" 'But you and your friend will soon go to the police, and it is likely that we will get them all out,' said he; but he swore as I took the witness's place of honor. 'Come along,' said he, and I followed in the direction which I had given when I went as if to say that I was in my own hands now. This is the way in which I found ourselves, and this is the way I could possibly tell my own story. How am I to know, Watson?\" There was a long and sharp tap at the door, and a voice, the most excited, but muffled, of alarm. It came from within the house.\n",
            "\n",
            "\n",
            "\n",
            "   \"It is an abominable thing that any man can ever say that it is all his own fault,\" said Holmes. \"I know it all, Watson, and it has gone on for some days in my head. But one day in the evening I was walking together when we started, and there came a knocking at the door. I walked out, and it was someone I had never heard of; for they had all gone up my window and had left me to my own device. A young lady ran right in, and I followed with all my might.\n",
            "    \" 'Oh, you have heard of him, Mr. Holmes,' said I, while I saw a man with a cane standing in the open doorway.\n",
            "   \" 'By the way,' said Holmes, 'I must have a word with him now that there is no other to say.'\n",
            "   \" 'I don't believe that they have anything upon their minds to speak of.' \" 'There is a man,' said I; 'some one should be at his wit's end.' He walked up and down the street.\n",
            "\n",
            "\n",
            "\" 'It will take a long time,' said I.\n",
            "   \" 'No doubt they shall have their way to-night,' said he; 'but I cannot tell you when this will have passed.' With a scream, the door of the room was closed and a man sprang through. The man sprang to his feet and threw away his clothes. I caught it a second time and took out my knife. He ran for the door, and ran inside. He threw and flung himself down, but the door was closed. The woman had run away from home, and the old fellow had fled. We tried to help him, but he was too feeble to take us; and I would not have carried him on, but I must have him hanged. I would not have put off this man for another day. I was bound, if I could, to follow the way in the rain, until the rain would carry me. I went back in a few minutes, and I saw, with some amazement, that this old fellow had been able to leave all his clothes behind him. The door was locked, and in an instant the man had fled the house, for as he fled I could hear his footsteps rushing up the street, and that same man had dashed down from his horse and was hurrying away with all his goods. As I returned we heard him shouting in the street, and this old man had been left all alone, for at that instant he made a cry of terror and ran to the garden. I caught him by the wrists and put him to the pavement where he had fled. But the door which had been open was thrown open, and this little fellow ran away with his goods. I saw him run from that garden again, and again to the west. I took a cab, and I waited upon the way. All in all, of course, there was no attempt upon Holmes's life. Yet I felt that all was well when I heard a cry of alarm.\n",
            "\" 'Ah!' cried the woman's voice. 'The man has come! Where is he? He may be found in the streets-I guess he was just out of town-to-morrow. He has left his manhood behind.'\n",
            "   \"So far it was one of the most mysterious mysteries of the house, but this she heard very plainly to the horror of my companions. She turned back, and I saw that they were all gone.\n",
            "   \"I was still there, when she had turned again and saw the little man walking up the street, so much so that I could not help her still in my wonder. I was glad that she had gone. It was as good a light as the morning-glories.\n",
            "   \"One morning she had been at work all night, and had been sitting by the sink. I examined her with a certain amount of astonishment at the dreadful things which had befallen her father, and at the sudden disappearance of his wife. I had not yet heard any answer, but I knew the words to each one, and could not help feeling that the man had vanished before\n",
            "\n",
            "[210 | 498.10] loss=2.99 avg=3.06\n",
            "[220 | 521.34] loss=2.90 avg=3.05\n",
            "[230 | 544.61] loss=2.75 avg=3.04\n",
            "[240 | 567.74] loss=2.90 avg=3.03\n",
            "[250 | 590.85] loss=2.97 avg=3.03\n",
            "[260 | 613.86] loss=2.78 avg=3.02\n",
            "[270 | 636.94] loss=2.78 avg=3.01\n",
            "[280 | 660.07] loss=2.75 avg=3.00\n",
            "[290 | 683.27] loss=2.80 avg=2.99\n",
            "[300 | 706.44] loss=2.80 avg=2.98\n",
            "[310 | 729.58] loss=2.75 avg=2.97\n",
            "[320 | 752.70] loss=2.76 avg=2.96\n",
            "[330 | 775.80] loss=2.69 avg=2.95\n",
            "[340 | 798.93] loss=2.69 avg=2.94\n",
            "[350 | 822.15] loss=2.67 avg=2.94\n",
            "[360 | 845.40] loss=2.72 avg=2.93\n",
            "[370 | 868.52] loss=2.59 avg=2.92\n",
            "[380 | 891.58] loss=2.64 avg=2.91\n",
            "[390 | 914.65] loss=2.81 avg=2.91\n",
            "[400 | 937.84] loss=2.75 avg=2.90\n",
            "======== SAMPLE 1 ========\n",
            ". They were the only one who had not heard of the death of Joseph Merville.\"\n",
            "   \"One of them was the chief of the lodge who had murdered me. You had one of the servants there, and you had her own reasons. Then there were the last two lodges. You had them all. The one that was killed was not the lodge but the lodge. I could tell you everything-the dead man was not my master, the dead brother of mine came here from the East, and there was not a word in the house that he had ever heard of that he has ever heard of a man. He talked of him for eight years and I heard no word for a year. The next, the last, was the man who had betrayed me.\"\n",
            "   \"Your words,\" said Holmes, \"are true.\" I smiled as he shook his head.\n",
            "   \"The next was the man, and then the last man. And then I tell you that the old man, the poor fellow, died in the cold and you have never heard the last of him. If he had known I should have sworn to him. He never spoke again.\"\n",
            "   \"But he was one of the more devoted amen,\" said Lestrade in a tone of amusement. \"That alone is enough enough to bring them into his grip, for to anyone but himself he was the greatest murderer of men.\"\n",
            "   \"And that's enough,\" said Holmes, smiling. \"And we must go down to the place upon the moor where the dead man is found. I think there is one more I can tell you, Watson. What about the other lodges of the people?\"\n",
            "   \"We will go down to the place in the moor where the two are known to have been, and bring you up to that point. I would like to have my own counsel in the matter, Lestrade.\"\n",
            "   \"I am sure that you will find it so. As to this young fellow, he lived on the moor, and I know that every man who has ever lived there is as good as the dead man. If anyone else wants to go, then we can always come, but what I have to tell you is that you have the right to know.\"\n",
            "The boy stared about the room with a very earnest eye.\n",
            "   \"Oh! you must remember-\" he murmured as he lost one of his sharp ears.\n",
            "   \"The old fellow, the man who had betrayed me! There is no more that can bring us back to the place that we found him. The man's name is Joseph Merville, and I have sworn to swear that if I have killed anyone he will be as good as me, and that any death which a brother has ever had will never touch his head or leave his hand. And that is where the truth lies. It is a large moor- land lodge,-that is, of the greatest in northern England,-and a place where there is danger. The old man is the one guilty of so much. Yet I have sworn to the honour and glory of the old man, which I should not have chosen to die to save others. But now, Lestrade, what do you think of this young man's fate?\"\n",
            "   \"Well, it is a terrible story,\" I agreed; \"but if you remem- ber it, it is not a sad story.\"\n",
            "\n",
            "\n",
            "\n",
            "   \"If that is Lestrade's way then it is his way,\" said Holmes. \"What is the most atrocious thing against which we are to find a man guilty?\"\n",
            "\"I must ask you,\" remarked Lestrade.\n",
            "\n",
            "   \"Well, I am sure that you understand, Lestrade,\" said Holmes, \"that even in the most perfect lives some people are guilty of more than one terrible crime. I will call upon my friends and ask them whether it was in the year 1890 or in 1896 that Dr. Horace was so horribly and treacherously murdered. I have heard that, Watson, but I understand that this is the case in which you are, Lestrade.\"\n",
            "   Lestrade flushed at Holmes's statement, and made a violent gesture.\n",
            "\"I fear that you are not quite clear enough. It is likely, you know, that at that time the head of the lodge was Sir James Merville, who became known as the Scowrer, and it was he who found Sir Horace Holmes in the moor. If he had not found him, what has become of his friend?\"\n",
            "\"No evidence, Watson, no evidence, no evidence.\" \"Have you got some key here?\"\n",
            "\"Yes, Lestrade.\"\n",
            "   \"Now, Lestrade, I suppose the key to this unhappy man lies here? Well, good-bye!\" Holmes had vanished, and I was seated with the light upon the table beside him in Holmes's study.\n",
            " \n",
            "\n",
            "[410 | 972.36] loss=2.54 avg=2.89\n",
            "[420 | 995.44] loss=2.42 avg=2.88\n",
            "[430 | 1018.54] loss=2.57 avg=2.87\n",
            "[440 | 1041.72] loss=2.46 avg=2.86\n",
            "[450 | 1064.87] loss=2.62 avg=2.85\n",
            "[460 | 1088.01] loss=2.73 avg=2.85\n",
            "[470 | 1111.18] loss=2.48 avg=2.84\n",
            "[480 | 1134.31] loss=2.21 avg=2.82\n",
            "[490 | 1157.48] loss=2.65 avg=2.82\n",
            "[500 | 1180.65] loss=2.59 avg=2.81\n",
            "Saving checkpoint/run1/model-500\n",
            "[510 | 1209.61] loss=2.38 avg=2.80\n",
            "[520 | 1233.13] loss=2.23 avg=2.79\n",
            "[530 | 1256.33] loss=2.43 avg=2.78\n",
            "[540 | 1279.33] loss=2.21 avg=2.76\n",
            "[550 | 1302.50] loss=2.57 avg=2.76\n",
            "[560 | 1325.79] loss=2.39 avg=2.75\n",
            "[570 | 1349.00] loss=2.50 avg=2.74\n",
            "[580 | 1372.14] loss=2.54 avg=2.74\n",
            "[590 | 1395.28] loss=2.30 avg=2.73\n",
            "[600 | 1418.39] loss=2.33 avg=2.72\n",
            "======== SAMPLE 1 ========\n",
            " laughter.\n",
            "Mr. Holmes smiled.\n",
            "   \"Do you think I shall be sorry for anything I say to Mr. Percy Aglayan?\"\n",
            "   \"I think, Mr. Green- man, that we have to agree upon some points. I would prefer to have the peace of the Guild-this is more than possible.\"\n",
            "   Sherlock Holmes smiled at our eagerness. \"I don't know that I am quite so far from coming to a solution as to its composition,\" said he. \"On that point I take no more.\"\n",
            "   \"You may be sure of it. You can make no use of your old man. Mr. Green- man, I don't see anything for you to do.\"\n",
            "   Mr. Wilson shook his head.\n",
            "\"Perhaps you don't feel that you could do much at home?\"\n",
            "\"Not at home-yes.\"\n",
            "   \"Ah, but maybe I don't know what I should do. What am I missing?\"\n",
            "   He was speaking as though he had been struck as a mere comic relief when he spoke in answer to one of the questions presented by Inspector Moulton.\n",
            "   \"I understand that when he went to consult you he asked you for your opinion on the problem, and then when he went the other way he asked for the advice of the young man-and yet you are of your opinion that he should send away the young man?\"\n",
            "   \"Exactly. You have been waiting for this, I believe.\"\n",
            "   \"And yet I do not quite see how you could possibly be satisfied until you have cleared up the problem. When I hear you tell the truth, Watson, you give me the impression that you are a man of some real energy and courage.\"\n",
            "\"I am not a coward-no, no.\"\n",
            "   \"Do you mean the coward who lies still and waits in the air and does not go out?\"\n",
            "   \"I have no doubt, Mr. Green- man, that you have some very deep emotions to your back.\"\n",
            "\"Well, I thought it rather hard to go out.\"\n",
            "   \"Quite so. I guess you must admit that it is only natural.\"\n",
            "   This was the third narrative which I read-a collection of short diatribe sheets, torn from the same document-which he had written with a smile. At first I thought that it was some joke, but upon con- veying my own memory after many repetitions the effect was the same.\n",
            "   It was a strange feeling to know that my friend, a man of formidable strength, was standing before me, but one which was never less intense and intense than now. I knew my comrade's face well, and as I gazed into his eyes I knew that he also held one which was one of the most painful in human history. It was the face of a huge, vicious, venomous, fierce animal. As I looked, Mr. Green- man, I knew that there was some flaw in all this man. If I was to look back at that fierce and vicious beast I can hardly hope, having in my power saved several lives, to forget it.\n",
            "\"You have done something like this before, Mr. Wilson. If you can't bear to do it now, there's no one that can bear to bear it. And now I hear you come across this young man, Mr. Green- man. You must be thinking at that point.\"\n",
            "   With a cold voice I told him that I would come down with him, so that the worst would be past before I left. We did so-though, as I told him, I was much excited at the prospect. Mr. Green- man turned and saw my bold, red-rimmed eyes hard opened over my shoulder. It was evident that he knew me, and that I was all sympathy in this perplexing business. He seemed to understand that I was an acquaintance not a criminal. I bowed at his courtesy. He raised his eyebrows at me.\n",
            "\"I am not, Mr. Green- man.\"\n",
            "   \"I am sorry to trouble you, Mr. Greenman, but it is not a man of courage. It is not a man of tenacity, Mr. Holmes. It may be the natural reaction of young men when caught in a situation-to try to do something which it is impossible to without arousing a suspicion. And yet there is danger in that. And you have your own way of dealing with that. Well, now, Mr. Greenman, I suppose you will do just what the Inspector mentioned.\"\n",
            "He took his hat, too, and walked away.\n",
            "   \"It's an easy thing to do, Mr. Sherlock Holmes,\" said the old man as he left my house. \"I'll put you on your line, and I don't think you have much to say.\"\n",
            "\n",
            "\n",
            "\n",
            "   \"I must compliment you on coming\n",
            "\n",
            "[610 | 1452.36] loss=2.45 avg=2.72\n",
            "[620 | 1475.46] loss=2.52 avg=2.71\n",
            "[630 | 1498.56] loss=2.54 avg=2.71\n",
            "[640 | 1521.61] loss=2.21 avg=2.70\n",
            "[650 | 1544.66] loss=2.69 avg=2.70\n",
            "[660 | 1567.95] loss=2.21 avg=2.69\n",
            "[670 | 1591.19] loss=2.39 avg=2.68\n",
            "[680 | 1614.24] loss=2.23 avg=2.67\n",
            "[690 | 1637.31] loss=2.29 avg=2.66\n",
            "[700 | 1660.60] loss=2.24 avg=2.66\n",
            "[710 | 1683.82] loss=2.19 avg=2.65\n",
            "[720 | 1706.98] loss=2.03 avg=2.63\n",
            "[730 | 1730.06] loss=2.36 avg=2.63\n",
            "[740 | 1753.08] loss=2.29 avg=2.62\n",
            "[750 | 1776.21] loss=2.41 avg=2.62\n",
            "[760 | 1799.38] loss=2.24 avg=2.61\n",
            "[770 | 1822.61] loss=2.33 avg=2.61\n",
            "[780 | 1845.87] loss=2.15 avg=2.60\n",
            "[790 | 1869.15] loss=2.46 avg=2.60\n",
            "[800 | 1892.43] loss=1.90 avg=2.58\n",
            "======== SAMPLE 1 ========\n",
            " your life with the words of the Inspector, I'll stand by, and then you have got to let him know that I don't want his name to get out of my head. As to me, you know, Mr. Holmes, if it were up to me I would tell you first what it means to be an American. If you know me, please don't tell my wife! I am here to help you, no American should ever do so.\n",
            "   \"When I was in the United States of A I joined the A.R..I guess it didn't matter where we landed, or what nationality we had left in the world. Maybe I am a dork, and maybe it's the man on the beat! But I'm here to help you. If you'll only leave that note.\"\n",
            "   \"Thank you. You don't have to leave, do you? You may not take me out when you are tired, but I'll find a way if you will leave my note- cards. What do you think of my plans, Mr. Mackey? There's no need for you to think of me as such a fool! What do you believe in, Mr. Holmes?\"\n",
            "\"I'll tell you what you will believe.\"\n",
            "   \"Look at this!\" I cried. \"You may see something! You may find that there's some part of the story which's not quite true, but it's not to blame of my hiding in a boat or something. It's the truth! I'll lie hard clear now, and then I may show you how this gentleman came by the boat-the way he came by the boat! It's the truth, but what's the truth? You've been warned, Mr. Mackey, and you've to lie ready and let me tell you-\"\n",
            "\"Don't hold back from me,\" said Holmes.\n",
            "   \"A true gentleman, you say. I only ask that you be truthful.\"\n",
            "   \"You've been warned, Mr. Mackey. You are to let me know all the details.\" \"Exactly!\" said Holmes, gravely. \"You must be clear how you'll be informed if anything is to be believed. I've always said that it was only a word to me while I was in the boat, and it's only a word now-\" \"Don't make it about us! Don't!\" Mr. Mackey cried loudly.\n",
            "   \"I'd say two-thirds true, I reckon, Mr. Holmes.\" Our visitor fell silent, and when he pulled hard round to give us the silence of our bed, I heard the sharp thudding of steel in the silent sea. Holmes and McCarthy stood in silence, watching the man under the candlelight.\n",
            "   Now there was a light in the inner bedroom window, but it was useless unless you were a man. Well, there was only one way out. The man must lie, or he would lie in wait outside. There was no lock on the door. We sat, trembling, inside and out, but no sound could reach us. Then Mr. Mackey opened the door; then he sat still, still, looking out into the candlelight. Then he took off his hat and the tinted, waterproof slippers he turned to his leather work-\n",
            "\n",
            "er and tapped away with them.\n",
            "   \"There's not much we can do-not a whole lot, but you can see that the light goes on pretty softly,\" said he as we sat together. \"'My God! it's gone on all right!' says Mr. Holmes, and I'm sure he meant well.\n",
            "   \"Oh, he said, and he again. 'There, the light on the other side, isn't it?' says Mr. Mackey. 'This isn't too dark for breakfast.'\n",
            "   \"I'm afraid they are very careful to keep the other light. I'm afraid that there will be a long wait. I'm afraid that by the time we get through the door they will be all on us.\"\n",
            "\n",
            "\n",
            "\n",
            "   \"Well, well, he was a fine gentleman,\" said McCarthy. \"And his eye was a little injured after the shock.\"\n",
            "   \"Well, you know how it is. He thought that he had taken a bit too much time for himself. He laid his hand upon the wrist of the inspector, and he kept it there all the time. Then he gave the key of the door to someone else. I think he was a very dark sleeper, as all the rest of us are, and I think he would have waited a little longer. But as to the other light, he was glad if someone came who could help him in any way.\n",
            "   \"I think he had something which was quite handy. He brought with him some brandy, which he poured into a big glass. The brandy is the poisonous milk of the goose. It does not come in water.\n",
            "\n",
            "[810 | 1926.88] loss=1.97 avg=2.57\n",
            "[820 | 1949.94] loss=1.99 avg=2.56\n",
            "[830 | 1973.04] loss=2.23 avg=2.56\n",
            "[840 | 1996.13] loss=2.14 avg=2.55\n",
            "[850 | 2019.24] loss=2.16 avg=2.54\n",
            "[860 | 2042.34] loss=2.25 avg=2.54\n",
            "[870 | 2065.44] loss=2.06 avg=2.53\n",
            "[880 | 2088.56] loss=2.43 avg=2.53\n",
            "[890 | 2111.70] loss=1.90 avg=2.52\n",
            "[900 | 2134.86] loss=2.10 avg=2.51\n",
            "[910 | 2158.05] loss=2.01 avg=2.50\n",
            "[920 | 2181.27] loss=2.02 avg=2.49\n",
            "[930 | 2204.55] loss=2.17 avg=2.49\n",
            "[940 | 2227.77] loss=2.32 avg=2.48\n",
            "[950 | 2250.96] loss=1.70 avg=2.47\n",
            "[960 | 2274.09] loss=2.08 avg=2.47\n",
            "[970 | 2297.22] loss=2.02 avg=2.46\n",
            "[980 | 2320.36] loss=2.14 avg=2.45\n",
            "[990 | 2343.49] loss=1.89 avg=2.44\n",
            "[1000 | 2366.62] loss=2.28 avg=2.44\n",
            "Saving checkpoint/run1/model-1000\n"
          ]
        },
        {
          "output_type": "stream",
          "name": "stderr",
          "text": [
            "WARNING:tensorflow:From /usr/local/lib/python3.10/dist-packages/tensorflow/python/training/saver.py:1067: remove_checkpoint (from tensorflow.python.checkpoint.checkpoint_management) is deprecated and will be removed in a future version.\n",
            "Instructions for updating:\n",
            "Use standard file APIs to delete files with this prefix.\n"
          ]
        }
      ]
    },
    {
      "cell_type": "code",
      "source": [
        "gpt2.copy_checkpoint_to_gdrive(run_name='run1')"
      ],
      "metadata": {
        "id": "PVSdETLdlgkN"
      },
      "execution_count": null,
      "outputs": []
    },
    {
      "cell_type": "code",
      "source": [
        "gpt2.copy_checkpoint_from_gdrive(run_name='run1')"
      ],
      "metadata": {
        "id": "wPn6ezzK7Q7F"
      },
      "execution_count": null,
      "outputs": []
    },
    {
      "cell_type": "code",
      "source": [
        "#generate text\n",
        "prompt=input(\"Prompt:\\n\")\n",
        "gpt2.generate(sess,\n",
        "              length=250,\n",
        "              temperature=0.7,\n",
        "              prefix=prompt,\n",
        "              nsamples=5,\n",
        "              batch_size=5\n",
        "              )"
      ],
      "metadata": {
        "colab": {
          "base_uri": "https://localhost:8080/"
        },
        "id": "FWUCqROA7ZGI",
        "outputId": "b3975bb9-7bed-4e31-fb44-5bab673a0f5e"
      },
      "execution_count": null,
      "outputs": [
        {
          "output_type": "stream",
          "name": "stdout",
          "text": [
            "Prompt:\n",
            "To be or not to be\n",
            "To be or not to be, there will be trouble. There will be trouble, Mr. Holmes. You will find that trouble.\"\n",
            "   \"Look in the mirror. I am gone.\"\n",
            "   \"Well, go now. That is love. You will find it in me when I am gone. It is time I put my heart and soul into the work.\"\n",
            "   \"As long as I am alive I shall be happy. But as long as I am alive I shall never see another human being. My soul shall be empty if I do not leave my home at last.\"\n",
            "Holmes sat for some time in silence.\n",
            "   \"I know, Watson, that you are right. I am thinking the same thought. But let us see if it is not clear,\" he continued, suddenly startling. \"I think I can do better. If you will be good enough to step up to me I will do as much. But you must make it clear to me, Wat- son, that there is danger still lurking in the matter.\"\n",
            "   It was not inconceivable that we should find ourselves in the room in which our client had described him. It was a large and dark one, with a subdued moonlit courtyard\n",
            "====================\n",
            "To be or not to be, he must be, and that is what I have in for. I have a fixed price for you, Mr. Holmes, and it's a price which you can't refuse.\"\n",
            "   \"I'll take the best from you, Mr. Holmes, and I'll pay it if I have to walk across the moat to the sta- tion. You saw how I stood before me when I saw the stream.\"\n",
            "   \"He could pass the moat, and yet from that time onward he would move swiftly, with all his weighing at his back. You'll find that he climbed the stream. It was not a good day for him, for he ran into bleating bog in the farther bank. He was a crook in every way-here's our paper. It was over the coat of arms that the gun went up and shot him. So was the poor dog in the farther cottage. I must give you a hand, and you must give me one.\"\n",
            "   \"You'll have to do, I promise you. But I had other things to do.\"\n",
            "   \"Then I'll take a little look round and see if I can help you to-morrow.\"\n",
            "   I\n",
            "====================\n",
            "To be or not to be, I think it is best to leave it be.\"\n",
            "   We had all sat in silence after the conversation, and I could see now that they had lost all interest in the matter. For a long time I was silent, but Holmes's eyes seemed to be keenly interested as he spoke. Then he suddenly threw his weight about so as to command its obedience.\n",
            "   \"You have made this inquiry yourself,\" said he. \"The effect is this: You have made the mistake of expecting to hear the whole story, and yet you have missed one crucial point. Now, if we are to reconstruct events in a way which is in common with those of the\n",
            "\n",
            "\n",
            "\n",
            "Polyphonic tragedy of the Boccac-Polypus tragedy, then some of the events of the preceding days were actually repeated in those parts without you noticing. The fact is that all the parties to this case are connected-you see me now, Watson, you see me!\"\n",
            "   \"We are certainly fortunate if you can come to the conclusion,\" said Holmes. \"Certainly it is a most remarkable one.\"\n",
            "   \"You will understand, then, that this is a matter of public importance, and that the police, in\n",
            "====================\n",
            "To be or not to be, I must try something in order to see that I am not mistaken. But if you are to give me a chance of being right, then I must do it.\"\n",
            "   \"Then I must follow your advice, and so find my way in good practice to what I can.\"\n",
            "   \"In that case, Miss Morstan, you have gone too far. In that case, you must not go into details.\"\n",
            "\"What is the matter?\"\n",
            "   \"I am in the habit of telling my friends all my adventures. When I was a lad I ran across a sea, and wandered through the woods.\"\n",
            "\"But what about him?\"\n",
            "   \"Oh, he came with me in a boat. I remember that he was glad to see me.\"\n",
            "   \"But you don't say anything about his adventures, do you?\"\n",
            "   \"He said that it was his life or his will. It was all he knew about it. But he is blind, and I am of an inferior type.\"\n",
            "   \"No, no, we must not talk about that. You are both bound to know. What did he do to you?\"\n",
            "   \"He was really angry with\n",
            "====================\n",
            "To be or not to be, I can't for the life of me know. I lay my hand upon you, Colonel, and I will take a night off before I know anything more.\"\n",
            "   \"Well, what can you hope of?\" I ejacu- lated.\n",
            "   \"I see that the lights have gone out of this room. I've had a good look at the papers. The colonel has gone to London. I'll see nothing more until I am told that I am to be left alone. I'll do as much as I can, but sooner or later I'll be entirely out of sight.\"\n",
            "   \"That certainly sounds good to me. But are you ready to go?\"\n",
            "   \"I'll go no more. I'll go as soon as I see justice in the world. I'll go with you, and you with me, and it won't matter to me what you think of my ways. I'll take revenge on them.\"\n",
            "   Colonel McGinty laughed. \"There are only two ways out of London,\" he said. \"You or the police or me. I'll take that. And your treaty. If you can't find peace in the world, you are at least ready\n",
            "====================\n"
          ]
        }
      ]
    },
    {
      "cell_type": "code",
      "source": [],
      "metadata": {
        "id": "AtKERfr57oAO"
      },
      "execution_count": null,
      "outputs": []
    }
  ]
}